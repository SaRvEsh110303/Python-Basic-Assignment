{
 "cells": [
  {
   "cell_type": "markdown",
   "id": "347b973c-90aa-4d38-a62b-b309ba9066ff",
   "metadata": {},
   "source": [
    "Q1. Declare two variables, `x` and `y`, and assign them integer values. Swap the values of these variables without using any temporary variable."
   ]
  },
  {
   "cell_type": "code",
   "execution_count": 2,
   "id": "2d95da43-e077-44ab-9e3f-81b5bb99f1dd",
   "metadata": {},
   "outputs": [],
   "source": [
    "#First Method -1\n",
    "x=38\n",
    "y=52"
   ]
  },
  {
   "cell_type": "code",
   "execution_count": 3,
   "id": "9ed6d8bf-5f5c-49c7-8042-0f2d7e647ceb",
   "metadata": {},
   "outputs": [
    {
     "data": {
      "text/plain": [
       "38"
      ]
     },
     "execution_count": 3,
     "metadata": {},
     "output_type": "execute_result"
    }
   ],
   "source": [
    "x"
   ]
  },
  {
   "cell_type": "code",
   "execution_count": 4,
   "id": "8cee2608-b9d0-48aa-ab77-c58c8f448a17",
   "metadata": {},
   "outputs": [
    {
     "data": {
      "text/plain": [
       "52"
      ]
     },
     "execution_count": 4,
     "metadata": {},
     "output_type": "execute_result"
    }
   ],
   "source": [
    "y"
   ]
  },
  {
   "cell_type": "code",
   "execution_count": 5,
   "id": "ba731ffa-2c96-49e1-893a-fbaaf19d7d1e",
   "metadata": {},
   "outputs": [],
   "source": [
    "#NOW, interchange the value"
   ]
  },
  {
   "cell_type": "code",
   "execution_count": 13,
   "id": "13cc1f14-0bcd-439a-86af-f14629b7c67b",
   "metadata": {},
   "outputs": [],
   "source": [
    "x=52"
   ]
  },
  {
   "cell_type": "code",
   "execution_count": 14,
   "id": "d6d3e404-3690-4fd7-ae0b-229214ba6b52",
   "metadata": {},
   "outputs": [
    {
     "data": {
      "text/plain": [
       "52"
      ]
     },
     "execution_count": 14,
     "metadata": {},
     "output_type": "execute_result"
    }
   ],
   "source": [
    "x"
   ]
  },
  {
   "cell_type": "code",
   "execution_count": 15,
   "id": "fecc6c71-9101-4c0d-b3fd-da5e2fd4c68a",
   "metadata": {},
   "outputs": [],
   "source": [
    "y=38"
   ]
  },
  {
   "cell_type": "code",
   "execution_count": 16,
   "id": "5cda8323-40b4-4c3c-b436-de837bc327ca",
   "metadata": {},
   "outputs": [
    {
     "data": {
      "text/plain": [
       "38"
      ]
     },
     "execution_count": 16,
     "metadata": {},
     "output_type": "execute_result"
    }
   ],
   "source": [
    "y"
   ]
  },
  {
   "cell_type": "code",
   "execution_count": 36,
   "id": "5de3e5d9-6d9a-4f48-8085-1bf00d39cc13",
   "metadata": {},
   "outputs": [],
   "source": [
    "#HENCE THE VALUES ARE SWAPED"
   ]
  },
  {
   "cell_type": "code",
   "execution_count": 37,
   "id": "35d90b39-8296-4570-b01f-e3021a56551b",
   "metadata": {},
   "outputs": [],
   "source": [
    "#Another Method -2\n",
    "x=38\n",
    "y=52\n",
    "x,y=52,38"
   ]
  },
  {
   "cell_type": "code",
   "execution_count": 34,
   "id": "f730939d-9c50-4629-b564-75f5b5ee84a8",
   "metadata": {},
   "outputs": [
    {
     "data": {
      "text/plain": [
       "52"
      ]
     },
     "execution_count": 34,
     "metadata": {},
     "output_type": "execute_result"
    }
   ],
   "source": [
    "x"
   ]
  },
  {
   "cell_type": "code",
   "execution_count": 35,
   "id": "95a791e6-822e-4c16-af14-ec053cd8338c",
   "metadata": {},
   "outputs": [
    {
     "data": {
      "text/plain": [
       "38"
      ]
     },
     "execution_count": 35,
     "metadata": {},
     "output_type": "execute_result"
    }
   ],
   "source": [
    "y"
   ]
  },
  {
   "cell_type": "code",
   "execution_count": 41,
   "id": "99d6ed80-e7ec-4715-bc6e-9e9144545ac5",
   "metadata": {},
   "outputs": [],
   "source": [
    "#Another Method -3\n",
    "x=38\n",
    "y=52\n",
    "x,y=y,x\n"
   ]
  },
  {
   "cell_type": "code",
   "execution_count": 42,
   "id": "4f96e267-5134-4cee-8096-6573f4c2f9b2",
   "metadata": {},
   "outputs": [
    {
     "data": {
      "text/plain": [
       "52"
      ]
     },
     "execution_count": 42,
     "metadata": {},
     "output_type": "execute_result"
    }
   ],
   "source": [
    "x"
   ]
  },
  {
   "cell_type": "code",
   "execution_count": 43,
   "id": "17227c5d-b155-4e3b-b159-40831c31262f",
   "metadata": {},
   "outputs": [
    {
     "data": {
      "text/plain": [
       "38"
      ]
     },
     "execution_count": 43,
     "metadata": {},
     "output_type": "execute_result"
    }
   ],
   "source": [
    "y"
   ]
  },
  {
   "cell_type": "code",
   "execution_count": 44,
   "id": "fa82f045-5060-49b4-a32b-0ec346c3ed76",
   "metadata": {},
   "outputs": [],
   "source": [
    "#HENCE VALUES ARE SWAPPED"
   ]
  },
  {
   "cell_type": "markdown",
   "id": "d5e31060-c27e-43d0-919f-63067e427582",
   "metadata": {},
   "source": [
    " Q2.Create a program that calculates the area of a rectangle. Take the length and width as inputs from the user and store them in variables\n",
    " Calculate and display the area.\n"
   ]
  },
  {
   "cell_type": "code",
   "execution_count": 1,
   "id": "71feb0c7-93ab-4427-bec3-e90ee7cf1361",
   "metadata": {},
   "outputs": [],
   "source": [
    "#WE WILL TAKE LENGTH BY USER INPUT"
   ]
  },
  {
   "cell_type": "code",
   "execution_count": 2,
   "id": "912d2913-7331-4ad8-bf74-9327989cc2fc",
   "metadata": {},
   "outputs": [
    {
     "name": "stdin",
     "output_type": "stream",
     "text": [
      "Enter the Length of the Rectangle 34\n"
     ]
    }
   ],
   "source": [
    "Length=int(input(\"Enter the Length of the Rectangle\"))"
   ]
  },
  {
   "cell_type": "code",
   "execution_count": 3,
   "id": "6786cd65-de72-4685-bd74-364dfcd22ba3",
   "metadata": {},
   "outputs": [],
   "source": [
    "#WE WILL TAKE WIDTH BY USER INPUT"
   ]
  },
  {
   "cell_type": "code",
   "execution_count": 4,
   "id": "388a144b-3a7e-4be0-ba1a-8b777f3426b9",
   "metadata": {},
   "outputs": [
    {
     "name": "stdin",
     "output_type": "stream",
     "text": [
      "Enter the width of the Rectangle 54\n"
     ]
    }
   ],
   "source": [
    "Width= int(input('Enter the width of the Rectangle'))"
   ]
  },
  {
   "cell_type": "code",
   "execution_count": 5,
   "id": "9780c70a-11b3-4194-87a3-61b8b4582546",
   "metadata": {},
   "outputs": [],
   "source": [
    "#AREA OF THE RECTANGLE = LENGTH* WIDTH"
   ]
  },
  {
   "cell_type": "code",
   "execution_count": 9,
   "id": "4d563c4e-18e4-4a83-87d0-7b3721f3a067",
   "metadata": {},
   "outputs": [],
   "source": [
    "Area= Length*Width"
   ]
  },
  {
   "cell_type": "code",
   "execution_count": 10,
   "id": "3d9be394-ad80-426e-9046-4d65ef13e98b",
   "metadata": {},
   "outputs": [],
   "source": [
    "#DISPLAYING THE AREA"
   ]
  },
  {
   "cell_type": "code",
   "execution_count": 11,
   "id": "133be16c-f802-4b4b-8ac8-d03c4104bdb1",
   "metadata": {},
   "outputs": [
    {
     "data": {
      "text/plain": [
       "1836"
      ]
     },
     "execution_count": 11,
     "metadata": {},
     "output_type": "execute_result"
    }
   ],
   "source": [
    "Area"
   ]
  },
  {
   "cell_type": "markdown",
   "id": "2a6b24ba-3b23-42ce-a40b-687125ed93af",
   "metadata": {},
   "source": [
    "Q3. Write a Python program that converts temperatures from Celsius to Fahrenheit. Take the temperature in Celsius as input, store it in a variable,\n",
    "    convert it to Fahrenheit, and display the result."
   ]
  },
  {
   "cell_type": "code",
   "execution_count": 22,
   "id": "4118a808-e488-490b-867f-f755fbf6dfed",
   "metadata": {},
   "outputs": [],
   "source": [
    "#TAKE THE CELSIUS AS A INPUT AND STORING IT IN A VARIABLE C"
   ]
  },
  {
   "cell_type": "code",
   "execution_count": 28,
   "id": "c7d3fbff-06d5-4ab4-86a2-839b699a62d0",
   "metadata": {},
   "outputs": [
    {
     "name": "stdin",
     "output_type": "stream",
     "text": [
      "Enter the Temperature in Celsius 40\n"
     ]
    }
   ],
   "source": [
    "c=int(input(\"Enter the Temperature in Celsius\"))"
   ]
  },
  {
   "cell_type": "code",
   "execution_count": 25,
   "id": "2b14ec43-c8ea-4a6a-83f8-69caa8e8b88c",
   "metadata": {},
   "outputs": [],
   "source": [
    "#FOR CONVERTING INTO FARENHEIT\n",
    "#LET'S CONVERT CELSIUS INTO FARENHEIT FORMULA IS -: C(9/5) + 32"
   ]
  },
  {
   "cell_type": "code",
   "execution_count": 29,
   "id": "9d8273cc-40d3-4426-9461-6bc9555b3935",
   "metadata": {},
   "outputs": [],
   "source": [
    "f=c*(9/5)+32"
   ]
  },
  {
   "cell_type": "code",
   "execution_count": 30,
   "id": "cb05ba04-fb9b-459a-b418-1b12f65373e9",
   "metadata": {},
   "outputs": [
    {
     "data": {
      "text/plain": [
       "104.0"
      ]
     },
     "execution_count": 30,
     "metadata": {},
     "output_type": "execute_result"
    }
   ],
   "source": [
    "f"
   ]
  },
  {
   "cell_type": "code",
   "execution_count": 31,
   "id": "c565af2d-6683-4ab9-b996-1f918662266e",
   "metadata": {},
   "outputs": [],
   "source": [
    "# STRING BASED QUESTIONS"
   ]
  },
  {
   "cell_type": "markdown",
   "id": "35f25aec-457b-467a-892c-ce04de87758c",
   "metadata": {},
   "source": [
    "Q1. Write a Python program that takes a string as input and prints the length of the string."
   ]
  },
  {
   "cell_type": "code",
   "execution_count": 33,
   "id": "cf509b70-fcf4-4853-9bfd-e4430556434b",
   "metadata": {},
   "outputs": [],
   "source": [
    "#FIRST WE WILL TAKE A STRING "
   ]
  },
  {
   "cell_type": "code",
   "execution_count": 38,
   "id": "12e17bf8-b256-4068-bd39-c8771a2aa3a2",
   "metadata": {},
   "outputs": [
    {
     "name": "stdin",
     "output_type": "stream",
     "text": [
      "Enter the string:  Sarz\n"
     ]
    }
   ],
   "source": [
    "s=str(input(\"Enter the string: \"))"
   ]
  },
  {
   "cell_type": "code",
   "execution_count": 40,
   "id": "e0c3aab2-8a31-4ebe-9b15-a04627049bed",
   "metadata": {},
   "outputs": [],
   "source": [
    "#THERE IS A FUNCTION TO FIND THE LENGTH OF THE STRING IS len(string)"
   ]
  },
  {
   "cell_type": "code",
   "execution_count": 41,
   "id": "1251de83-7bbe-4330-8f90-2d01b5889807",
   "metadata": {},
   "outputs": [
    {
     "data": {
      "text/plain": [
       "4"
      ]
     },
     "execution_count": 41,
     "metadata": {},
     "output_type": "execute_result"
    }
   ],
   "source": [
    "len(s)"
   ]
  },
  {
   "cell_type": "code",
   "execution_count": 42,
   "id": "e6935df8-52f0-4f23-adb1-cb47fd50b199",
   "metadata": {},
   "outputs": [],
   "source": [
    "#IF WE WILL CHANGE THE STRING "
   ]
  },
  {
   "cell_type": "code",
   "execution_count": 43,
   "id": "603bae3f-597a-409c-9fa7-dbfa25b2e0cc",
   "metadata": {},
   "outputs": [
    {
     "name": "stdin",
     "output_type": "stream",
     "text": [
      "Enter the string:  Sarvesh\n"
     ]
    }
   ],
   "source": [
    "s=str(input(\"Enter the string: \"))"
   ]
  },
  {
   "cell_type": "code",
   "execution_count": 44,
   "id": "e2d0b4f5-b8af-4b63-91e5-febc036c62e8",
   "metadata": {},
   "outputs": [
    {
     "data": {
      "text/plain": [
       "7"
      ]
     },
     "execution_count": 44,
     "metadata": {},
     "output_type": "execute_result"
    }
   ],
   "source": [
    "len(s)"
   ]
  },
  {
   "cell_type": "markdown",
   "id": "ade9b9f9-117f-4c40-a637-1209b88df7c7",
   "metadata": {},
   "source": [
    "Q2.Create a program that takes a sentence from the user and counts the number of vowels (a, e, i, o, u) in the string"
   ]
  },
  {
   "cell_type": "code",
   "execution_count": 48,
   "id": "45101a7e-eaf3-411f-8270-aa7d5e6aa535",
   "metadata": {},
   "outputs": [],
   "source": [
    "#Let take a string from the user input"
   ]
  },
  {
   "cell_type": "code",
   "execution_count": 51,
   "id": "ed93dccf-51db-4d83-8969-c4b14cff31d5",
   "metadata": {},
   "outputs": [
    {
     "name": "stdin",
     "output_type": "stream",
     "text": [
      "Enter the String:  sarvesh\n"
     ]
    }
   ],
   "source": [
    "s=str(input(\"Enter the String: \"))"
   ]
  },
  {
   "cell_type": "code",
   "execution_count": 52,
   "id": "709070c2-9efa-4a8a-8475-1eb4a2c202fb",
   "metadata": {},
   "outputs": [],
   "source": [
    "#Now we have to count the number of vowels"
   ]
  },
  {
   "cell_type": "code",
   "execution_count": 53,
   "id": "22bde68d-c484-412b-bed6-1e8e0647ea0a",
   "metadata": {},
   "outputs": [],
   "source": [
    "#vowels= {a,e,i,o,u}\n",
    "#et's make a set"
   ]
  },
  {
   "cell_type": "code",
   "execution_count": 58,
   "id": "e4128c1e-1a0a-4082-8781-6c42af468aab",
   "metadata": {},
   "outputs": [],
   "source": [
    "vowels={'a','e','i','o','u'}"
   ]
  },
  {
   "cell_type": "code",
   "execution_count": 58,
   "id": "b417e49a-59d8-4883-8d5f-f5b01360d401",
   "metadata": {},
   "outputs": [],
   "source": [
    "#NOW WE WILL COUNT THE NUMBER OF VOWELS WHERE WE WILL USE count(STRING) FUNCTION"
   ]
  },
  {
   "cell_type": "code",
   "execution_count": 59,
   "id": "e48c2859-f074-489c-90c3-02cc1beef16d",
   "metadata": {},
   "outputs": [],
   "source": [
    "c1=s.count('a')"
   ]
  },
  {
   "cell_type": "code",
   "execution_count": 71,
   "id": "5804c004-ec2f-4adc-a35e-d2b2b9af88c2",
   "metadata": {},
   "outputs": [],
   "source": [
    "c2=s.count('e')"
   ]
  },
  {
   "cell_type": "code",
   "execution_count": 72,
   "id": "58c85510-48a0-4b4c-83e8-14c1a011b16b",
   "metadata": {},
   "outputs": [],
   "source": [
    "c3=s.count('i')"
   ]
  },
  {
   "cell_type": "code",
   "execution_count": 73,
   "id": "4783c8f9-8bf4-41f1-a9f7-3ec7fe41bc75",
   "metadata": {},
   "outputs": [],
   "source": [
    "c4=s.count('o')"
   ]
  },
  {
   "cell_type": "code",
   "execution_count": 74,
   "id": "4b651a5c-9f99-4019-ad06-987360fbe2dc",
   "metadata": {},
   "outputs": [],
   "source": [
    "c5=s.count('u')"
   ]
  },
  {
   "cell_type": "code",
   "execution_count": 76,
   "id": "26924a0b-f2d8-4b9d-a1f5-d8fb8018574c",
   "metadata": {},
   "outputs": [],
   "source": [
    "#NOW WE WILL PRINT THE COUNT VOWELS"
   ]
  },
  {
   "cell_type": "code",
   "execution_count": 77,
   "id": "bc5d5efb-669c-4a17-82c5-8c628342ce63",
   "metadata": {},
   "outputs": [
    {
     "name": "stdout",
     "output_type": "stream",
     "text": [
      "a-: 1\n",
      "e-: 1\n",
      "i-: 0\n",
      "o-: 0\n",
      "u-: 0\n"
     ]
    }
   ],
   "source": [
    "print(\"a-:\",c1)\n",
    "print(\"e-:\",c2)\n",
    "print(\"i-:\",c3)\n",
    "print(\"o-:\",c4)\n",
    "print(\"u-:\",c5)"
   ]
  },
  {
   "cell_type": "code",
   "execution_count": 78,
   "id": "c3b3d7b1-0c74-4e6d-ab1a-6170a1128516",
   "metadata": {},
   "outputs": [],
   "source": [
    "#HENCE THE VOWELS ARE COUNTED, THERE ARE VARIOUS METHODS FOR THIS AS WE CAN DO THIS BY FOR LOOPS, AND IF ELSE"
   ]
  },
  {
   "cell_type": "markdown",
   "id": "e8f642d3-7c3e-4db1-830f-45d37360f015",
   "metadata": {},
   "source": [
    " Q3. Given a string, reverse the order of characters using string slicing and print the reversed string"
   ]
  },
  {
   "cell_type": "code",
   "execution_count": 81,
   "id": "08d7707e-9a6d-4a6a-b001-c593b30e4006",
   "metadata": {},
   "outputs": [],
   "source": [
    "#LET'S TAKE A STRING FROM USER INPUT"
   ]
  },
  {
   "cell_type": "code",
   "execution_count": 82,
   "id": "8c39087c-0aa5-441d-a23a-0d241e2f1b77",
   "metadata": {},
   "outputs": [
    {
     "name": "stdin",
     "output_type": "stream",
     "text": [
      "Enter the String:  Sarvesh\n"
     ]
    }
   ],
   "source": [
    "s1=str(input(\"Enter the String: \"))"
   ]
  },
  {
   "cell_type": "code",
   "execution_count": 83,
   "id": "163351e0-06ee-4f03-bb1e-a50de510af99",
   "metadata": {},
   "outputs": [],
   "source": [
    "#NOW WE HAVE TO REVERSE THE STRING "
   ]
  },
  {
   "cell_type": "code",
   "execution_count": 84,
   "id": "67f6d42d-a033-439c-a662-f92b996c04ff",
   "metadata": {},
   "outputs": [],
   "source": [
    "#NOW WE WILL DO THIS BY METHOD OF SLICING WHERE WE WILL USE -1:-8:-1 FOR SLICING"
   ]
  },
  {
   "cell_type": "code",
   "execution_count": 86,
   "id": "af1c11b9-7f05-44be-9445-6ccd4c836f76",
   "metadata": {},
   "outputs": [
    {
     "data": {
      "text/plain": [
       "'hsevraS'"
      ]
     },
     "execution_count": 86,
     "metadata": {},
     "output_type": "execute_result"
    }
   ],
   "source": [
    "s1[-1:-8:-1]"
   ]
  },
  {
   "cell_type": "code",
   "execution_count": 87,
   "id": "1cd66f6a-ca37-4697-a3f4-8d4d95a4e894",
   "metadata": {},
   "outputs": [],
   "source": [
    "#WE HAVE DONE -8 AS THE STRING TAKES NUMBER-1 LETTER\n",
    "#HENCE THE STRING IS REVERSE"
   ]
  },
  {
   "cell_type": "markdown",
   "id": "dbed0a0d-f3e1-4848-b8cf-11641f180cd0",
   "metadata": {},
   "source": [
    " Q4. Write a program that takes a string as input and checks if it is a palindrome (reads the same forwards and backwards)."
   ]
  },
  {
   "cell_type": "code",
   "execution_count": 91,
   "id": "dfb8243b-4e77-4baa-a423-54573d5f0226",
   "metadata": {},
   "outputs": [],
   "source": [
    "# NOW WE WILL TAKE THE STRING FROM USER INPUT\n",
    "#WE HAVE TO TAKE THE PALINDROME SUCH AS -: NITIN"
   ]
  },
  {
   "cell_type": "code",
   "execution_count": 92,
   "id": "51243f84-f575-4436-b8e9-692fc702a48f",
   "metadata": {},
   "outputs": [
    {
     "name": "stdin",
     "output_type": "stream",
     "text": [
      "Enter the string:  NITIN\n"
     ]
    }
   ],
   "source": [
    "s1=str(input(\"Enter the string: \"))"
   ]
  },
  {
   "cell_type": "code",
   "execution_count": 93,
   "id": "b716fbca-cde6-4a7d-8989-20ab36c72e44",
   "metadata": {},
   "outputs": [],
   "source": [
    "#WE WILL HAVE TO REVERSE THIS NUMBER SO AS TO SEE IF IT'S PALINDROME OR NOT "
   ]
  },
  {
   "cell_type": "code",
   "execution_count": 94,
   "id": "be0402cb-dc54-46ee-b56f-c04df02d67b0",
   "metadata": {},
   "outputs": [],
   "source": [
    "#BY SLICING METHOD [-1:-6:-1]"
   ]
  },
  {
   "cell_type": "code",
   "execution_count": 95,
   "id": "15388877-ba8d-4b51-81b5-52f039b6c865",
   "metadata": {},
   "outputs": [
    {
     "data": {
      "text/plain": [
       "'NITIN'"
      ]
     },
     "execution_count": 95,
     "metadata": {},
     "output_type": "execute_result"
    }
   ],
   "source": [
    "s1[-1:-6:-1]"
   ]
  },
  {
   "cell_type": "code",
   "execution_count": 96,
   "id": "d6bc8a7e-6d66-4857-9f1b-e57c212a8eb0",
   "metadata": {},
   "outputs": [],
   "source": [
    "#BY REVERSING HENCE THE WORD IS PALINDROME"
   ]
  },
  {
   "cell_type": "markdown",
   "id": "a8317153-6b9d-4f1c-bc1b-239a035c2d6d",
   "metadata": {},
   "source": [
    " Q5. Create a program that takes a string as input and removes all the spaces from it. Print the modified string without spaces."
   ]
  },
  {
   "cell_type": "code",
   "execution_count": 99,
   "id": "72f613ec-f22d-4387-bb82-ec00ccd573e8",
   "metadata": {},
   "outputs": [],
   "source": [
    "#NOW WE WILL TAKE STRING FROM THE USER INPUT "
   ]
  },
  {
   "cell_type": "code",
   "execution_count": 103,
   "id": "c6cabcb4-0dd5-408e-ad36-0c3fae0a25c1",
   "metadata": {},
   "outputs": [
    {
     "name": "stdin",
     "output_type": "stream",
     "text": [
      "Enter the String:  Hello Everyone\n"
     ]
    }
   ],
   "source": [
    "s1=str(input(\"Enter the String: \"))"
   ]
  },
  {
   "cell_type": "code",
   "execution_count": 104,
   "id": "86649351-d52c-49d9-95b5-eb1bc225b83e",
   "metadata": {},
   "outputs": [],
   "source": [
    "#FOR REMOVAL OF SPACE WE HAVE TO USE replace() function"
   ]
  },
  {
   "cell_type": "code",
   "execution_count": 104,
   "id": "aa3d524f-6ff5-42bc-8736-ef4844007827",
   "metadata": {},
   "outputs": [],
   "source": [
    "s=s1.replace(\" \",\"\")"
   ]
  },
  {
   "cell_type": "code",
   "execution_count": 105,
   "id": "90037561-5e29-4ce6-9ec9-57004f0f5566",
   "metadata": {},
   "outputs": [
    {
     "data": {
      "text/plain": [
       "'HelloEveryone'"
      ]
     },
     "execution_count": 105,
     "metadata": {},
     "output_type": "execute_result"
    }
   ],
   "source": [
    "s"
   ]
  },
  {
   "cell_type": "code",
   "execution_count": 106,
   "id": "d0735105-50ff-4222-a8ba-41fc625b62c7",
   "metadata": {},
   "outputs": [],
   "source": [
    "#AND STRING IS THERE WITHOUT SPACE"
   ]
  },
  {
   "cell_type": "code",
   "execution_count": null,
   "id": "843879a4-3521-4c4e-b20c-64a25e644af5",
   "metadata": {},
   "outputs": [],
   "source": []
  }
 ],
 "metadata": {
  "kernelspec": {
   "display_name": "Python 3 (ipykernel)",
   "language": "python",
   "name": "python3"
  },
  "language_info": {
   "codemirror_mode": {
    "name": "ipython",
    "version": 3
   },
   "file_extension": ".py",
   "mimetype": "text/x-python",
   "name": "python",
   "nbconvert_exporter": "python",
   "pygments_lexer": "ipython3",
   "version": "3.10.8"
  }
 },
 "nbformat": 4,
 "nbformat_minor": 5
}
